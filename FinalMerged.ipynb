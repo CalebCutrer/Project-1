{
 "cells": [
  {
   "cell_type": "code",
   "execution_count": 1,
   "id": "c952c1a8-7ab7-4182-82a2-164f0713ada8",
   "metadata": {},
   "outputs": [],
   "source": [
    "# Dependencies\n",
    "import pandas as pd # type: ignore\n",
    "from pathlib import Path\n",
    "import pyreadstat  # type: ignore"
   ]
  },
  {
   "cell_type": "code",
   "execution_count": 4,
   "id": "80d66f83-a45c-406f-a082-9ec2dc844f2f",
   "metadata": {},
   "outputs": [
    {
     "data": {
      "text/html": [
       "<div>\n",
       "<style scoped>\n",
       "    .dataframe tbody tr th:only-of-type {\n",
       "        vertical-align: middle;\n",
       "    }\n",
       "\n",
       "    .dataframe tbody tr th {\n",
       "        vertical-align: top;\n",
       "    }\n",
       "\n",
       "    .dataframe thead th {\n",
       "        text-align: right;\n",
       "    }\n",
       "</style>\n",
       "<table border=\"1\" class=\"dataframe\">\n",
       "  <thead>\n",
       "    <tr style=\"text-align: right;\">\n",
       "      <th></th>\n",
       "      <th>Respondent ID</th>\n",
       "      <th>Sleep Hours Week/Workdays</th>\n",
       "      <th>Sleep Hours Weekends</th>\n",
       "      <th>Told Doctor About Sleep Issues</th>\n",
       "      <th>Feeling Tired During Day Frequency</th>\n",
       "    </tr>\n",
       "  </thead>\n",
       "  <tbody>\n",
       "    <tr>\n",
       "      <th>0</th>\n",
       "      <td>109266.0</td>\n",
       "      <td>7.5</td>\n",
       "      <td>8.0</td>\n",
       "      <td>2.0</td>\n",
       "      <td>0.0</td>\n",
       "    </tr>\n",
       "    <tr>\n",
       "      <th>1</th>\n",
       "      <td>109267.0</td>\n",
       "      <td>8.0</td>\n",
       "      <td>8.0</td>\n",
       "      <td>2.0</td>\n",
       "      <td>2.0</td>\n",
       "    </tr>\n",
       "    <tr>\n",
       "      <th>2</th>\n",
       "      <td>109268.0</td>\n",
       "      <td>8.5</td>\n",
       "      <td>8.0</td>\n",
       "      <td>2.0</td>\n",
       "      <td>1.0</td>\n",
       "    </tr>\n",
       "    <tr>\n",
       "      <th>3</th>\n",
       "      <td>109271.0</td>\n",
       "      <td>10.0</td>\n",
       "      <td>13.0</td>\n",
       "      <td>1.0</td>\n",
       "      <td>3.0</td>\n",
       "    </tr>\n",
       "    <tr>\n",
       "      <th>4</th>\n",
       "      <td>109273.0</td>\n",
       "      <td>6.5</td>\n",
       "      <td>8.0</td>\n",
       "      <td>1.0</td>\n",
       "      <td>2.0</td>\n",
       "    </tr>\n",
       "  </tbody>\n",
       "</table>\n",
       "</div>"
      ],
      "text/plain": [
       "   Respondent ID  Sleep Hours Week/Workdays  Sleep Hours Weekends  \\\n",
       "0       109266.0                        7.5                   8.0   \n",
       "1       109267.0                        8.0                   8.0   \n",
       "2       109268.0                        8.5                   8.0   \n",
       "3       109271.0                       10.0                  13.0   \n",
       "4       109273.0                        6.5                   8.0   \n",
       "\n",
       "   Told Doctor About Sleep Issues  Feeling Tired During Day Frequency  \n",
       "0                             2.0                                 0.0  \n",
       "1                             2.0                                 2.0  \n",
       "2                             2.0                                 1.0  \n",
       "3                             1.0                                 3.0  \n",
       "4                             1.0                                 2.0  "
      ]
     },
     "execution_count": 4,
     "metadata": {},
     "output_type": "execute_result"
    }
   ],
   "source": [
    "sleepdata = pd.read_csv(\"Datasets/Sleep_dataset_cleaned\") \n",
    "\n",
    "sleepdata.head()"
   ]
  },
  {
   "cell_type": "code",
   "execution_count": 9,
   "id": "4e70a8fe-7ea8-4395-ae2a-1e93958912d2",
   "metadata": {},
   "outputs": [],
   "source": [
    "datanodup = pd.read_csv(\"Datasets/Dataset_update_remove_dups\")\n",
    "datanodup = datanodup.drop(columns = [\"Sleep Hours Week/Workdays\", \"Sleep Hours Weekends\",\"Told Doctor About Sleep Issues\",\t\"Feeling Tired During Day Frequency\"])"
   ]
  },
  {
   "cell_type": "code",
   "execution_count": 15,
   "id": "a72bf2f3-305c-4d59-9860-061dc28b3318",
   "metadata": {},
   "outputs": [
    {
     "name": "stdout",
     "output_type": "stream",
     "text": [
      "<class 'pandas.core.frame.DataFrame'>\n",
      "RangeIndex: 15560 entries, 0 to 15559\n",
      "Data columns (total 16 columns):\n",
      " #   Column                                Non-Null Count  Dtype  \n",
      "---  ------                                --------------  -----  \n",
      " 0   Respondent ID                         15560 non-null  float64\n",
      " 1   Number of Rx Meds                     6844 non-null   float64\n",
      " 2   Gender                                15560 non-null  float64\n",
      " 3   Age at Screening                      15560 non-null  float64\n",
      " 4   Race                                  15560 non-null  float64\n",
      " 5   Educational Attainment                9232 non-null   float64\n",
      " 6   Family Income to Poverty Ratio        13359 non-null  float64\n",
      " 7   Minutes of Vigorous Work Daily        2402 non-null   float64\n",
      " 8   Minutes of Moderate Work Daily        4164 non-null   float64\n",
      " 9   Minutes of Vigorous Recreation Daily  2417 non-null   float64\n",
      " 10  Minutes of Moderate Recreation Daily  3893 non-null   float64\n",
      " 11  Minutes of Sedentary Activity Daily   9676 non-null   float64\n",
      " 12  Sleep Hours Week/Workdays             10105 non-null  float64\n",
      " 13  Sleep Hours Weekends                  10099 non-null  float64\n",
      " 14  Told Doctor About Sleep Issues        10195 non-null  float64\n",
      " 15  Feeling Tired During Day Frequency    10195 non-null  float64\n",
      "dtypes: float64(16)\n",
      "memory usage: 1.9 MB\n"
     ]
    }
   ],
   "source": [
    "FinalizedData = pd.merge(datanodup, sleepdata, on=[\"Respondent ID\"], how = 'left')\n",
    "FinalizedData.columns\n",
    "FinalizedData.head()\n",
    "FinalizedData.info()"
   ]
  },
  {
   "cell_type": "code",
   "execution_count": 11,
   "id": "bd780679-bfee-469d-858f-35d10a5dfad5",
   "metadata": {},
   "outputs": [],
   "source": [
    "FinalizedData.to_csv(\"Datasets/Final_Cleaned\",\n",
    "                  encoding=\"utf-8\", index=False, header=True)"
   ]
  },
  {
   "cell_type": "code",
   "execution_count": null,
   "id": "7450a30b-1d33-44a3-ba75-0b191611d3a5",
   "metadata": {},
   "outputs": [],
   "source": []
  }
 ],
 "metadata": {
  "kernelspec": {
   "display_name": "Python 3 (ipykernel)",
   "language": "python",
   "name": "python3"
  },
  "language_info": {
   "codemirror_mode": {
    "name": "ipython",
    "version": 3
   },
   "file_extension": ".py",
   "mimetype": "text/x-python",
   "name": "python",
   "nbconvert_exporter": "python",
   "pygments_lexer": "ipython3",
   "version": "3.11.7"
  }
 },
 "nbformat": 4,
 "nbformat_minor": 5
}
