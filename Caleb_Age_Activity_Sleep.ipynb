{
 "cells": [
  {
   "cell_type": "markdown",
   "id": "37dbb51d",
   "metadata": {},
   "source": [
    "## Data Analysis for Age, Activity, Sleep Variables"
   ]
  },
  {
   "cell_type": "code",
   "execution_count": 1,
   "id": "478fb1e1-666f-4584-ba4a-55c179cf8899",
   "metadata": {},
   "outputs": [],
   "source": [
    "# Dependencies\n",
    "from pathlib import Path\n",
    "import pandas as pd\n",
    "import matplotlib.pyplot as plt\n",
    "import numpy as np\n",
    "import scipy.stats as st\n",
    "from scipy.stats import linregress\n",
    "import seaborn as sns"
   ]
  },
  {
   "cell_type": "code",
   "execution_count": 2,
   "id": "1cd604c3",
   "metadata": {},
   "outputs": [
    {
     "data": {
      "text/html": [
       "<div>\n",
       "<style scoped>\n",
       "    .dataframe tbody tr th:only-of-type {\n",
       "        vertical-align: middle;\n",
       "    }\n",
       "\n",
       "    .dataframe tbody tr th {\n",
       "        vertical-align: top;\n",
       "    }\n",
       "\n",
       "    .dataframe thead th {\n",
       "        text-align: right;\n",
       "    }\n",
       "</style>\n",
       "<table border=\"1\" class=\"dataframe\">\n",
       "  <thead>\n",
       "    <tr style=\"text-align: right;\">\n",
       "      <th></th>\n",
       "      <th>Respondent ID</th>\n",
       "      <th>Number of Rx Meds</th>\n",
       "      <th>Gender</th>\n",
       "      <th>Age at Screening</th>\n",
       "      <th>Race</th>\n",
       "      <th>Educational Attainment</th>\n",
       "      <th>Family Income to Poverty Ratio</th>\n",
       "      <th>Minutes of Vigorous Work Daily</th>\n",
       "      <th>Minutes of Moderate Work Daily</th>\n",
       "      <th>Minutes of Vigorous Recreation Daily</th>\n",
       "      <th>Minutes of Moderate Recreation Daily</th>\n",
       "      <th>Minutes of Sedentary Activity Daily</th>\n",
       "      <th>Sleep Hours Week/Workdays</th>\n",
       "      <th>Sleep Hours Weekends</th>\n",
       "      <th>Told Doctor About Sleep Issues</th>\n",
       "      <th>Feeling Tired During Day Frequency</th>\n",
       "    </tr>\n",
       "  </thead>\n",
       "  <tbody>\n",
       "    <tr>\n",
       "      <th>0</th>\n",
       "      <td>109263.0</td>\n",
       "      <td>NaN</td>\n",
       "      <td>1.0</td>\n",
       "      <td>2.0</td>\n",
       "      <td>6.0</td>\n",
       "      <td>NaN</td>\n",
       "      <td>4.66</td>\n",
       "      <td>NaN</td>\n",
       "      <td>NaN</td>\n",
       "      <td>NaN</td>\n",
       "      <td>NaN</td>\n",
       "      <td>NaN</td>\n",
       "      <td>NaN</td>\n",
       "      <td>NaN</td>\n",
       "      <td>NaN</td>\n",
       "      <td>NaN</td>\n",
       "    </tr>\n",
       "    <tr>\n",
       "      <th>1</th>\n",
       "      <td>109264.0</td>\n",
       "      <td>NaN</td>\n",
       "      <td>2.0</td>\n",
       "      <td>13.0</td>\n",
       "      <td>1.0</td>\n",
       "      <td>NaN</td>\n",
       "      <td>0.83</td>\n",
       "      <td>NaN</td>\n",
       "      <td>NaN</td>\n",
       "      <td>NaN</td>\n",
       "      <td>NaN</td>\n",
       "      <td>NaN</td>\n",
       "      <td>NaN</td>\n",
       "      <td>NaN</td>\n",
       "      <td>NaN</td>\n",
       "      <td>NaN</td>\n",
       "    </tr>\n",
       "    <tr>\n",
       "      <th>2</th>\n",
       "      <td>109265.0</td>\n",
       "      <td>NaN</td>\n",
       "      <td>1.0</td>\n",
       "      <td>2.0</td>\n",
       "      <td>3.0</td>\n",
       "      <td>NaN</td>\n",
       "      <td>3.06</td>\n",
       "      <td>NaN</td>\n",
       "      <td>NaN</td>\n",
       "      <td>NaN</td>\n",
       "      <td>NaN</td>\n",
       "      <td>NaN</td>\n",
       "      <td>NaN</td>\n",
       "      <td>NaN</td>\n",
       "      <td>NaN</td>\n",
       "      <td>NaN</td>\n",
       "    </tr>\n",
       "    <tr>\n",
       "      <th>3</th>\n",
       "      <td>109266.0</td>\n",
       "      <td>NaN</td>\n",
       "      <td>2.0</td>\n",
       "      <td>29.0</td>\n",
       "      <td>6.0</td>\n",
       "      <td>5.0</td>\n",
       "      <td>5.00</td>\n",
       "      <td>NaN</td>\n",
       "      <td>NaN</td>\n",
       "      <td>60.0</td>\n",
       "      <td>30.0</td>\n",
       "      <td>480.0</td>\n",
       "      <td>7.5</td>\n",
       "      <td>8.0</td>\n",
       "      <td>2.0</td>\n",
       "      <td>0.0</td>\n",
       "    </tr>\n",
       "    <tr>\n",
       "      <th>4</th>\n",
       "      <td>109267.0</td>\n",
       "      <td>1.0</td>\n",
       "      <td>2.0</td>\n",
       "      <td>21.0</td>\n",
       "      <td>2.0</td>\n",
       "      <td>4.0</td>\n",
       "      <td>5.00</td>\n",
       "      <td>NaN</td>\n",
       "      <td>NaN</td>\n",
       "      <td>90.0</td>\n",
       "      <td>NaN</td>\n",
       "      <td>540.0</td>\n",
       "      <td>8.0</td>\n",
       "      <td>8.0</td>\n",
       "      <td>2.0</td>\n",
       "      <td>2.0</td>\n",
       "    </tr>\n",
       "  </tbody>\n",
       "</table>\n",
       "</div>"
      ],
      "text/plain": [
       "   Respondent ID  Number of Rx Meds  Gender  Age at Screening  Race  \\\n",
       "0       109263.0                NaN     1.0               2.0   6.0   \n",
       "1       109264.0                NaN     2.0              13.0   1.0   \n",
       "2       109265.0                NaN     1.0               2.0   3.0   \n",
       "3       109266.0                NaN     2.0              29.0   6.0   \n",
       "4       109267.0                1.0     2.0              21.0   2.0   \n",
       "\n",
       "   Educational Attainment  Family Income to Poverty Ratio  \\\n",
       "0                     NaN                            4.66   \n",
       "1                     NaN                            0.83   \n",
       "2                     NaN                            3.06   \n",
       "3                     5.0                            5.00   \n",
       "4                     4.0                            5.00   \n",
       "\n",
       "   Minutes of Vigorous Work Daily  Minutes of Moderate Work Daily  \\\n",
       "0                             NaN                             NaN   \n",
       "1                             NaN                             NaN   \n",
       "2                             NaN                             NaN   \n",
       "3                             NaN                             NaN   \n",
       "4                             NaN                             NaN   \n",
       "\n",
       "   Minutes of Vigorous Recreation Daily  Minutes of Moderate Recreation Daily  \\\n",
       "0                                   NaN                                   NaN   \n",
       "1                                   NaN                                   NaN   \n",
       "2                                   NaN                                   NaN   \n",
       "3                                  60.0                                  30.0   \n",
       "4                                  90.0                                   NaN   \n",
       "\n",
       "   Minutes of Sedentary Activity Daily  Sleep Hours Week/Workdays  \\\n",
       "0                                  NaN                        NaN   \n",
       "1                                  NaN                        NaN   \n",
       "2                                  NaN                        NaN   \n",
       "3                                480.0                        7.5   \n",
       "4                                540.0                        8.0   \n",
       "\n",
       "   Sleep Hours Weekends  Told Doctor About Sleep Issues  \\\n",
       "0                   NaN                             NaN   \n",
       "1                   NaN                             NaN   \n",
       "2                   NaN                             NaN   \n",
       "3                   8.0                             2.0   \n",
       "4                   8.0                             2.0   \n",
       "\n",
       "   Feeling Tired During Day Frequency  \n",
       "0                                 NaN  \n",
       "1                                 NaN  \n",
       "2                                 NaN  \n",
       "3                                 0.0  \n",
       "4                                 2.0  "
      ]
     },
     "execution_count": 2,
     "metadata": {},
     "output_type": "execute_result"
    }
   ],
   "source": [
    "Final_Data = pd.read_csv(\"Datasets/Final_Cleaned\")\n",
    "Final_Data.head()"
   ]
  },
  {
   "cell_type": "markdown",
   "id": "bffc320e",
   "metadata": {},
   "source": [
    "### Variables of Interest/That I am working with\n",
    "'Age at Screening' \n",
    "\n",
    "'Minutes of Vigorous Recreation Daily',\n",
    "\n",
    "'Minutes of Moderate Recreation Daily',\n",
    "\n",
    "'Minutes of Sedentary Activity Daily', \n",
    "\n",
    "'Sleep Hours Week/Workdays'\n",
    "\n",
    "'Sleep Hours Weekends'\n",
    "\n",
    "'Feeling Tired During Day Frequency' "
   ]
  },
  {
   "cell_type": "markdown",
   "id": "23bc1ec0",
   "metadata": {},
   "source": [
    "#### Potential Questions\n",
    "Is there a connection between age and sleep hours? Do sleep patterns change across the lifespan? \n",
    "\n",
    "Is there a connection between age and frequency of feeling tired during the day?"
   ]
  },
  {
   "cell_type": "code",
   "execution_count": 3,
   "id": "35ce2fdd",
   "metadata": {},
   "outputs": [],
   "source": [
    "# Recoding Tired During Day Variable\n",
    "TiredDuringDayDict = {\n",
    "    0 : \"Never\",\n",
    "    1.0 : \"Rarely - once a month\",\n",
    "    2.0 : \"Sometimes - 2-4 times a month\",\n",
    "    3.0 : \"Often- 5-15 times a month\",\n",
    "    4.0 : \"Almost always - 16-30 times a month\",\n",
    "    7.0 : \"Did not answer/know\",\n",
    "    9.0 : \"Did not answer/know\"\n",
    "}\n",
    "Final_Data[\"Feeling Tired During Day Frequency\"] = Final_Data[\"Feeling Tired During Day Frequency\"].map(TiredDuringDayDict)"
   ]
  },
  {
   "cell_type": "markdown",
   "id": "a7995b66",
   "metadata": {},
   "source": [
    "### Age and Sleep Hours Variables:"
   ]
  },
  {
   "cell_type": "code",
   "execution_count": 4,
   "id": "df576189",
   "metadata": {},
   "outputs": [
    {
     "data": {
      "text/html": [
       "<div>\n",
       "<style scoped>\n",
       "    .dataframe tbody tr th:only-of-type {\n",
       "        vertical-align: middle;\n",
       "    }\n",
       "\n",
       "    .dataframe tbody tr th {\n",
       "        vertical-align: top;\n",
       "    }\n",
       "\n",
       "    .dataframe thead th {\n",
       "        text-align: right;\n",
       "    }\n",
       "</style>\n",
       "<table border=\"1\" class=\"dataframe\">\n",
       "  <thead>\n",
       "    <tr style=\"text-align: right;\">\n",
       "      <th></th>\n",
       "      <th>Respondent ID</th>\n",
       "      <th>Number of Rx Meds</th>\n",
       "      <th>Gender</th>\n",
       "      <th>Age at Screening</th>\n",
       "      <th>Race</th>\n",
       "      <th>Educational Attainment</th>\n",
       "      <th>Family Income to Poverty Ratio</th>\n",
       "      <th>Minutes of Vigorous Work Daily</th>\n",
       "      <th>Minutes of Moderate Work Daily</th>\n",
       "      <th>Minutes of Vigorous Recreation Daily</th>\n",
       "      <th>Minutes of Moderate Recreation Daily</th>\n",
       "      <th>Minutes of Sedentary Activity Daily</th>\n",
       "      <th>Sleep Hours Week/Workdays</th>\n",
       "      <th>Sleep Hours Weekends</th>\n",
       "      <th>Told Doctor About Sleep Issues</th>\n",
       "      <th>Feeling Tired During Day Frequency</th>\n",
       "    </tr>\n",
       "  </thead>\n",
       "  <tbody>\n",
       "    <tr>\n",
       "      <th>3</th>\n",
       "      <td>109266.0</td>\n",
       "      <td>NaN</td>\n",
       "      <td>2.0</td>\n",
       "      <td>29.0</td>\n",
       "      <td>6.0</td>\n",
       "      <td>5.0</td>\n",
       "      <td>5.00</td>\n",
       "      <td>NaN</td>\n",
       "      <td>NaN</td>\n",
       "      <td>60.0</td>\n",
       "      <td>30.0</td>\n",
       "      <td>480.0</td>\n",
       "      <td>7.5</td>\n",
       "      <td>8.0</td>\n",
       "      <td>2.0</td>\n",
       "      <td>Never</td>\n",
       "    </tr>\n",
       "    <tr>\n",
       "      <th>4</th>\n",
       "      <td>109267.0</td>\n",
       "      <td>1.0</td>\n",
       "      <td>2.0</td>\n",
       "      <td>21.0</td>\n",
       "      <td>2.0</td>\n",
       "      <td>4.0</td>\n",
       "      <td>5.00</td>\n",
       "      <td>NaN</td>\n",
       "      <td>NaN</td>\n",
       "      <td>90.0</td>\n",
       "      <td>NaN</td>\n",
       "      <td>540.0</td>\n",
       "      <td>8.0</td>\n",
       "      <td>8.0</td>\n",
       "      <td>2.0</td>\n",
       "      <td>Sometimes - 2-4 times a month</td>\n",
       "    </tr>\n",
       "    <tr>\n",
       "      <th>5</th>\n",
       "      <td>109268.0</td>\n",
       "      <td>1.0</td>\n",
       "      <td>2.0</td>\n",
       "      <td>18.0</td>\n",
       "      <td>3.0</td>\n",
       "      <td>NaN</td>\n",
       "      <td>1.66</td>\n",
       "      <td>540.0</td>\n",
       "      <td>300.0</td>\n",
       "      <td>NaN</td>\n",
       "      <td>NaN</td>\n",
       "      <td>540.0</td>\n",
       "      <td>8.5</td>\n",
       "      <td>8.0</td>\n",
       "      <td>2.0</td>\n",
       "      <td>Rarely - once a month</td>\n",
       "    </tr>\n",
       "    <tr>\n",
       "      <th>8</th>\n",
       "      <td>109271.0</td>\n",
       "      <td>3.0</td>\n",
       "      <td>1.0</td>\n",
       "      <td>49.0</td>\n",
       "      <td>3.0</td>\n",
       "      <td>2.0</td>\n",
       "      <td>NaN</td>\n",
       "      <td>NaN</td>\n",
       "      <td>120.0</td>\n",
       "      <td>NaN</td>\n",
       "      <td>NaN</td>\n",
       "      <td>60.0</td>\n",
       "      <td>10.0</td>\n",
       "      <td>13.0</td>\n",
       "      <td>1.0</td>\n",
       "      <td>Often- 5-15 times a month</td>\n",
       "    </tr>\n",
       "    <tr>\n",
       "      <th>10</th>\n",
       "      <td>109273.0</td>\n",
       "      <td>3.0</td>\n",
       "      <td>1.0</td>\n",
       "      <td>36.0</td>\n",
       "      <td>3.0</td>\n",
       "      <td>4.0</td>\n",
       "      <td>0.83</td>\n",
       "      <td>240.0</td>\n",
       "      <td>NaN</td>\n",
       "      <td>NaN</td>\n",
       "      <td>120.0</td>\n",
       "      <td>180.0</td>\n",
       "      <td>6.5</td>\n",
       "      <td>8.0</td>\n",
       "      <td>1.0</td>\n",
       "      <td>Sometimes - 2-4 times a month</td>\n",
       "    </tr>\n",
       "  </tbody>\n",
       "</table>\n",
       "</div>"
      ],
      "text/plain": [
       "    Respondent ID  Number of Rx Meds  Gender  Age at Screening  Race  \\\n",
       "3        109266.0                NaN     2.0              29.0   6.0   \n",
       "4        109267.0                1.0     2.0              21.0   2.0   \n",
       "5        109268.0                1.0     2.0              18.0   3.0   \n",
       "8        109271.0                3.0     1.0              49.0   3.0   \n",
       "10       109273.0                3.0     1.0              36.0   3.0   \n",
       "\n",
       "    Educational Attainment  Family Income to Poverty Ratio  \\\n",
       "3                      5.0                            5.00   \n",
       "4                      4.0                            5.00   \n",
       "5                      NaN                            1.66   \n",
       "8                      2.0                             NaN   \n",
       "10                     4.0                            0.83   \n",
       "\n",
       "    Minutes of Vigorous Work Daily  Minutes of Moderate Work Daily  \\\n",
       "3                              NaN                             NaN   \n",
       "4                              NaN                             NaN   \n",
       "5                            540.0                           300.0   \n",
       "8                              NaN                           120.0   \n",
       "10                           240.0                             NaN   \n",
       "\n",
       "    Minutes of Vigorous Recreation Daily  \\\n",
       "3                                   60.0   \n",
       "4                                   90.0   \n",
       "5                                    NaN   \n",
       "8                                    NaN   \n",
       "10                                   NaN   \n",
       "\n",
       "    Minutes of Moderate Recreation Daily  Minutes of Sedentary Activity Daily  \\\n",
       "3                                   30.0                                480.0   \n",
       "4                                    NaN                                540.0   \n",
       "5                                    NaN                                540.0   \n",
       "8                                    NaN                                 60.0   \n",
       "10                                 120.0                                180.0   \n",
       "\n",
       "    Sleep Hours Week/Workdays  Sleep Hours Weekends  \\\n",
       "3                         7.5                   8.0   \n",
       "4                         8.0                   8.0   \n",
       "5                         8.5                   8.0   \n",
       "8                        10.0                  13.0   \n",
       "10                        6.5                   8.0   \n",
       "\n",
       "    Told Doctor About Sleep Issues Feeling Tired During Day Frequency  \n",
       "3                              2.0                              Never  \n",
       "4                              2.0      Sometimes - 2-4 times a month  \n",
       "5                              2.0              Rarely - once a month  \n",
       "8                              1.0          Often- 5-15 times a month  \n",
       "10                             1.0      Sometimes - 2-4 times a month  "
      ]
     },
     "execution_count": 4,
     "metadata": {},
     "output_type": "execute_result"
    }
   ],
   "source": [
    "# Creating a new DF with age values being greater than or equal to 16 to match up with sleep variables sample\n",
    "SleepAge = Final_Data\n",
    "SleepAge = SleepAge.loc[SleepAge[\"Age at Screening\"]>= 16.0]\n",
    "SleepAge.head() "
   ]
  },
  {
   "cell_type": "markdown",
   "id": "b88dbb91",
   "metadata": {},
   "source": [
    "### Binning by Age:"
   ]
  },
  {
   "cell_type": "code",
   "execution_count": 5,
   "id": "21e4c6d3",
   "metadata": {},
   "outputs": [
    {
     "name": "stderr",
     "output_type": "stream",
     "text": [
      "C:\\Users\\caleb\\AppData\\Local\\Temp\\ipykernel_4404\\4251769170.py:8: SettingWithCopyWarning: \n",
      "A value is trying to be set on a copy of a slice from a DataFrame.\n",
      "Try using .loc[row_indexer,col_indexer] = value instead\n",
      "\n",
      "See the caveats in the documentation: https://pandas.pydata.org/pandas-docs/stable/user_guide/indexing.html#returning-a-view-versus-a-copy\n",
      "  SleepAge[\"Age Bins\"] = agebinned\n"
     ]
    }
   ],
   "source": [
    "# Age Binning, creating a column of bins \n",
    "agebinned = pd.cut(SleepAge[\"Age at Screening\"],[0, 20, 30, 40, 50, 60, 70, 150],labels=[\"16-20\", \"20-30\", \"30-40\",\"40-50\", \"50-60\",\n",
    "                                                                                             \"60-70\", \"70+\"])\n",
    "agebinned \n",
    "\n",
    "agebinned.value_counts()\n",
    "\n",
    "SleepAge[\"Age Bins\"] = agebinned\n",
    "cols = list(SleepAge.columns)\n"
   ]
  },
  {
   "cell_type": "markdown",
   "id": "42322d62",
   "metadata": {},
   "source": [
    "#### Sleep Weekdays vs Age "
   ]
  },
  {
   "cell_type": "code",
   "execution_count": 6,
   "id": "b16dbc45",
   "metadata": {},
   "outputs": [
    {
     "name": "stdout",
     "output_type": "stream",
     "text": [
      "Age Bins\n",
      "16-20    1082\n",
      "20-30    1387\n",
      "30-40    1416\n",
      "40-50    1439\n",
      "50-60    1630\n",
      "60-70    1644\n",
      "70+      1507\n",
      "Name: Sleep Hours Week/Workdays, dtype: int64\n"
     ]
    },
    {
     "name": "stderr",
     "output_type": "stream",
     "text": [
      "C:\\Users\\caleb\\AppData\\Local\\Temp\\ipykernel_4404\\3226589148.py:5: FutureWarning: The default of observed=False is deprecated and will be changed to True in a future version of pandas. Pass observed=False to retain current behavior or observed=True to adopt the future default and silence this warning.\n",
      "  countsweeknights = SleepAge[cols].groupby(\"Age Bins\").count()[\"Sleep Hours Week/Workdays\"]\n",
      "C:\\Users\\caleb\\AppData\\Local\\Temp\\ipykernel_4404\\3226589148.py:8: FutureWarning: The default of observed=False is deprecated and will be changed to True in a future version of pandas. Pass observed=False to retain current behavior or observed=True to adopt the future default and silence this warning.\n",
      "  meanweeknights = round(SleepAge[cols].groupby(\"Age Bins\").mean(),2)[\"Sleep Hours Week/Workdays\"]\n"
     ]
    },
    {
     "data": {
      "text/plain": [
       "Age Bins\n",
       "16-20    8.10\n",
       "20-30    7.74\n",
       "30-40    7.41\n",
       "40-50    7.36\n",
       "50-60    7.35\n",
       "60-70    7.60\n",
       "70+      8.07\n",
       "Name: Sleep Hours Week/Workdays, dtype: float64"
      ]
     },
     "execution_count": 6,
     "metadata": {},
     "output_type": "execute_result"
    }
   ],
   "source": [
    "# Eliminating the tired during day variable so we can run mean calculations:\n",
    "cols.pop(-2)\n",
    "\n",
    "# Getting the sample size:\n",
    "countsweeknights = SleepAge[cols].groupby(\"Age Bins\").count()[\"Sleep Hours Week/Workdays\"]\n",
    "print(countsweeknights)\n",
    "# Getting the means:\n",
    "meanweeknights = round(SleepAge[cols].groupby(\"Age Bins\").mean(),2)[\"Sleep Hours Week/Workdays\"]\n",
    "meanweeknights"
   ]
  },
  {
   "cell_type": "code",
   "execution_count": 19,
   "id": "e0e4b41c",
   "metadata": {},
   "outputs": [
    {
     "name": "stderr",
     "output_type": "stream",
     "text": [
      "C:\\Users\\caleb\\AppData\\Local\\Temp\\ipykernel_4404\\4147248669.py:2: FutureWarning: The default of observed=False is deprecated and will be changed to True in a future version of pandas. Pass observed=False to retain current behavior or observed=True to adopt the future default and silence this warning.\n",
      "  ax = round(SleepAge[cols].groupby(\"Age Bins\").mean(),2)[\"Sleep Hours Week/Workdays\"].plot(kind='bar', width = .8)\n"
     ]
    },
    {
     "data": {
      "image/png": "[encoded data removed]",
      "text/plain": [
       "<Figure size 640x480 with 1 Axes>"
      ]
     },
     "metadata": {},
     "output_type": "display_data"
    },
    {
     "data": {
      "text/plain": [
       "<Figure size 1000x2000 with 0 Axes>"
      ]
     },
     "metadata": {},
     "output_type": "display_data"
    }
   ],
   "source": [
    "# Plotting means\n",
    "ax = round(SleepAge[cols].groupby(\"Age Bins\").mean(),2)[\"Sleep Hours Week/Workdays\"].plot(kind='bar', width = .8)\n",
    "plt.title(\"Average Hours of Sleep on Weeknights by Age Groups\", fontsize = '14')\n",
    "ax.bar_label(ax.containers[0], label_type= 'center')\n",
    "plt.xlabel(\"Age in Years\", fontsize = '12')\n",
    "plt.ylabel(\"Hours\", fontsize = '12')\n",
    "plt.yticks([0,2,4,6,8])\n",
    "plt.xticks(rotation=30)\n",
    "plt.figure(figsize=(10,20))\n",
    "\n",
    "#Saving the visualization: \n",
    "plt.savefig(\"Visualizations/Age_Weeknights\")\n",
    "plt.show()\n"
   ]
  },
  {
   "cell_type": "markdown",
   "id": "d0959a18",
   "metadata": {},
   "source": [
    "#### Sleep Weekends vs Age "
   ]
  },
  {
   "cell_type": "code",
   "execution_count": 8,
   "id": "e2a066e4",
   "metadata": {},
   "outputs": [
    {
     "name": "stdout",
     "output_type": "stream",
     "text": [
      "Age Bins\n",
      "16-20    1083\n",
      "20-30    1385\n",
      "30-40    1413\n",
      "40-50    1437\n",
      "50-60    1631\n",
      "60-70    1644\n",
      "70+      1506\n",
      "Name: Sleep Hours Weekends, dtype: int64\n"
     ]
    },
    {
     "name": "stderr",
     "output_type": "stream",
     "text": [
      "C:\\Users\\caleb\\AppData\\Local\\Temp\\ipykernel_4404\\3309267369.py:2: FutureWarning: The default of observed=False is deprecated and will be changed to True in a future version of pandas. Pass observed=False to retain current behavior or observed=True to adopt the future default and silence this warning.\n",
      "  countsweekends = SleepAge[cols].groupby(\"Age Bins\").count()[\"Sleep Hours Weekends\"]\n",
      "C:\\Users\\caleb\\AppData\\Local\\Temp\\ipykernel_4404\\3309267369.py:5: FutureWarning: The default of observed=False is deprecated and will be changed to True in a future version of pandas. Pass observed=False to retain current behavior or observed=True to adopt the future default and silence this warning.\n",
      "  meanweekends = round(SleepAge[cols].groupby(\"Age Bins\").mean(),2)[\"Sleep Hours Weekends\"]\n"
     ]
    },
    {
     "data": {
      "text/plain": [
       "Age Bins\n",
       "16-20    9.31\n",
       "20-30    8.62\n",
       "30-40    8.38\n",
       "40-50    8.23\n",
       "50-60    8.08\n",
       "60-70    8.04\n",
       "70+      8.20\n",
       "Name: Sleep Hours Weekends, dtype: float64"
      ]
     },
     "execution_count": 8,
     "metadata": {},
     "output_type": "execute_result"
    }
   ],
   "source": [
    "# Getting the sample size:\n",
    "countsweekends = SleepAge[cols].groupby(\"Age Bins\").count()[\"Sleep Hours Weekends\"]\n",
    "print(countsweekends)\n",
    "# Getting the means:\n",
    "meanweekends = round(SleepAge[cols].groupby(\"Age Bins\").mean(),2)[\"Sleep Hours Weekends\"]\n",
    "meanweekends"
   ]
  },
  {
   "cell_type": "code",
   "execution_count": 9,
   "id": "fb4899ee",
   "metadata": {},
   "outputs": [
    {
     "name": "stderr",
     "output_type": "stream",
     "text": [
      "C:\\Users\\caleb\\AppData\\Local\\Temp\\ipykernel_4404\\3569001566.py:2: FutureWarning: The default of observed=False is deprecated and will be changed to True in a future version of pandas. Pass observed=False to retain current behavior or observed=True to adopt the future default and silence this warning.\n",
      "  ax2 = round(SleepAge[cols].groupby(\"Age Bins\").mean(),2)[\"Sleep Hours Weekends\"].plot(kind='bar', width = .8)\n"
     ]
    },
    {
     "data": {
      "image/png": "[encoded data removed]",
      "text/plain": [
       "<Figure size 640x480 with 1 Axes>"
      ]
     },
     "metadata": {},
     "output_type": "display_data"
    },
    {
     "data": {
      "text/plain": [
       "<Figure size 1000x2000 with 0 Axes>"
      ]
     },
     "metadata": {},
     "output_type": "display_data"
    }
   ],
   "source": [
    "# Plotting means\n",
    "ax2 = round(SleepAge[cols].groupby(\"Age Bins\").mean(),2)[\"Sleep Hours Weekends\"].plot(kind='bar', width = .8)\n",
    "plt.title(\"Average Hours of Sleep on Weekend Nights by Age Groups\", fontsize = '14')\n",
    "ax2.bar_label(ax2.containers[0], label_type= 'center')\n",
    "plt.xlabel(\"Age in Years\", fontsize = '12')\n",
    "plt.ylabel(\"Hours\", fontsize = '12')\n",
    "plt.yticks([0,2,4,6,8])\n",
    "plt.xticks(rotation=30)\n",
    "plt.figure(figsize=(10,20))\n",
    "\n",
    "#Saving the visualization: \n",
    "plt.savefig(\"Visualizations/Age_WeekendNights\")\n",
    "plt.show()"
   ]
  },
  {
   "cell_type": "markdown",
   "id": "64d36881",
   "metadata": {},
   "source": [
    "## Recreational activity versus tired during the day"
   ]
  },
  {
   "cell_type": "code",
   "execution_count": 10,
   "id": "828bd984-8112-46be-8edd-8e295fbb9d1f",
   "metadata": {},
   "outputs": [],
   "source": [
    "# Only including those over 18, dropping NA values for the activity columns \n",
    "ActivityData = Final_Data.copy()\n",
    "ActivityData = ActivityData.loc[ActivityData[\"Age at Screening\"]>= 18.0]\n",
    "ActivityData = ActivityData.dropna(subset=[\"Minutes of Moderate Recreation Daily\",\"Minutes of Sedentary Activity Daily\",\n",
    "                                           \"Minutes of Vigorous Recreation Daily\"])\n"
   ]
  },
  {
   "cell_type": "code",
   "execution_count": 11,
   "id": "6ff9cb1e",
   "metadata": {},
   "outputs": [
    {
     "data": {
      "text/plain": [
       "<BarContainer object of 1702 artists>"
      ]
     },
     "execution_count": 11,
     "metadata": {},
     "output_type": "execute_result"
    },
    {
     "data": {
      "image/png": "[encoded data removed]",
      "text/plain": [
       "<Figure size 640x480 with 1 Axes>"
      ]
     },
     "metadata": {},
     "output_type": "display_data"
    }
   ],
   "source": [
    "plt.bar(ActivityData[\"Feeling Tired During Day Frequency\"], height=ActivityData[\"Minutes of Moderate Recreation Daily\"])"
   ]
  },
  {
   "cell_type": "code",
   "execution_count": 12,
   "id": "30c1c53a",
   "metadata": {},
   "outputs": [
    {
     "name": "stdout",
     "output_type": "stream",
     "text": [
      "<class 'pandas.core.frame.DataFrame'>\n",
      "Index: 1702 entries, 3 to 15559\n",
      "Data columns (total 16 columns):\n",
      " #   Column                                Non-Null Count  Dtype  \n",
      "---  ------                                --------------  -----  \n",
      " 0   Respondent ID                         1702 non-null   float64\n",
      " 1   Number of Rx Meds                     732 non-null    float64\n",
      " 2   Gender                                1702 non-null   float64\n",
      " 3   Age at Screening                      1702 non-null   float64\n",
      " 4   Race                                  1702 non-null   float64\n",
      " 5   Educational Attainment                1563 non-null   float64\n",
      " 6   Family Income to Poverty Ratio        1419 non-null   float64\n",
      " 7   Minutes of Vigorous Work Daily        552 non-null    float64\n",
      " 8   Minutes of Moderate Work Daily        864 non-null    float64\n",
      " 9   Minutes of Vigorous Recreation Daily  1702 non-null   float64\n",
      " 10  Minutes of Moderate Recreation Daily  1702 non-null   float64\n",
      " 11  Minutes of Sedentary Activity Daily   1702 non-null   float64\n",
      " 12  Sleep Hours Week/Workdays             1701 non-null   float64\n",
      " 13  Sleep Hours Weekends                  1699 non-null   float64\n",
      " 14  Told Doctor About Sleep Issues        1702 non-null   float64\n",
      " 15  Feeling Tired During Day Frequency    1702 non-null   object \n",
      "dtypes: float64(15), object(1)\n",
      "memory usage: 226.0+ KB\n"
     ]
    }
   ],
   "source": [
    "ActivityData.info()\n",
    "ActivityData = ActivityData.astype({\"Minutes of Sedentary Activity Daily\": int,\n",
    "                                    \"Minutes of Moderate Recreation Daily\": int,\n",
    "                                    \"Minutes of Vigorous Recreation Daily\": int\n",
    "                                    })\n"
   ]
  }
 ],
 "metadata": {
  "kernelspec": {
   "display_name": "Python 3 (ipykernel)",
   "language": "python",
   "name": "python3"
  },
  "language_info": {
   "codemirror_mode": {
    "name": "ipython",
    "version": 3
   },
   "file_extension": ".py",
   "mimetype": "text/x-python",
   "name": "python",
   "nbconvert_exporter": "python",
   "pygments_lexer": "ipython3",
   "version": "3.11.7"
  }
 },
 "nbformat": 4,
 "nbformat_minor": 5
}
