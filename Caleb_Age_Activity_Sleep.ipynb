{
 "cells": [
  {
   "cell_type": "code",
   "execution_count": 1,
   "id": "478fb1e1-666f-4584-ba4a-55c179cf8899",
   "metadata": {},
   "outputs": [],
   "source": [
    "# Dependencies\n",
    "from pathlib import Path\n",
    "import pandas as pd\n",
    "import matplotlib.pyplot as plt\n",
    "import numpy as np\n",
    "import scipy.stats as st\n",
    "from scipy.stats import linregress\n",
    "import seaborn as sns"
   ]
  },
  {
   "cell_type": "markdown",
   "id": "9e137b63",
   "metadata": {},
   "source": [
    "edu_dict = {\n",
    "    1.0 : \"Less than 9th grade\",\n",
    "    2.0 : \"9-11th grade\",\n",
    "    3.0 : \"HS grad/GED\",\n",
    "    4.0 : \"Some college\", \n",
    "    5.0 : \"College grad+\",\n",
    "    7.0 : \"Other\",\n",
    "    9.0 : \"Other\"\n",
    "}\n",
    "DF[\"Educational Attainment\"] = DF[\"Educational Attainment\"].map(edu_dict)\n",
    "DF_clean.head()\n",
    "\n",
    "---------------------\n",
    "race_dict = {\n",
    "    1.0 : \"Mex-Am\",\n",
    "    2.0 : \"Other Hisp\",\n",
    "    3.0 : \"White\",\n",
    "    4.0 : \"Black\", \n",
    "    6.0 : \"Asian\",\n",
    "    7.0 : \"Other/Multi\",\n",
    "    \n",
    "}\n",
    "Race_update[\"Race\"] = Race_update[\"Race\"].map(race_dict)\n",
    "Race_update.head()\n",
    "\n",
    "Gender_dic = {1.0 : \"Male\",2.0:\"Female\"}\n",
    "\n",
    "Gender_Dataset[\"Gender\"] = Gender_Dataset[\"Gender\"].map(Gender_dic)\n",
    "Gender_Dataset.head()"
   ]
  },
  {
   "cell_type": "code",
   "execution_count": null,
   "id": "828bd984-8112-46be-8edd-8e295fbb9d1f",
   "metadata": {},
   "outputs": [],
   "source": []
  }
 ],
 "metadata": {
  "kernelspec": {
   "display_name": "Python 3 (ipykernel)",
   "language": "python",
   "name": "python3"
  },
  "language_info": {
   "codemirror_mode": {
    "name": "ipython",
    "version": 3
   },
   "file_extension": ".py",
   "mimetype": "text/x-python",
   "name": "python",
   "nbconvert_exporter": "python",
   "pygments_lexer": "ipython3",
   "version": "3.11.7"
  }
 },
 "nbformat": 4,
 "nbformat_minor": 5
}
